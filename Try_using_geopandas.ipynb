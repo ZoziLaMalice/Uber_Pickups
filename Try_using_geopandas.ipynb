{
 "nbformat": 4,
 "nbformat_minor": 2,
 "metadata": {
  "language_info": {
   "name": "python",
   "codemirror_mode": {
    "name": "ipython",
    "version": 3
   }
  },
  "orig_nbformat": 2,
  "file_extension": ".py",
  "mimetype": "text/x-python",
  "name": "python",
  "npconvert_exporter": "python",
  "pygments_lexer": "ipython3",
  "version": 3
 },
 "cells": [
  {
   "cell_type": "code",
   "execution_count": null,
   "metadata": {},
   "outputs": [],
   "source": [
    "import pandas as pd\n",
    "import numpy as np\n",
    "import seaborn as sns\n",
    "import matplotlib.pyplot as plt\n",
    "import descartes\n",
    "import geopandas as gpd\n",
    "from shapely.geometry import Point, Polygon\n",
    "\n",
    "%matplotlib inline\n",
    "\n",
    "from tqdm import tqdm\n",
    "tqdm.pandas()"
   ]
  },
  {
   "cell_type": "code",
   "execution_count": null,
   "metadata": {},
   "outputs": [],
   "source": [
    "df = pd.read_csv('./Datasets/uber-raw-data-apr14.csv', infer_datetime_format=True, parse_dates=[0])"
   ]
  },
  {
   "cell_type": "markdown",
   "metadata": {},
   "source": [
    "**Need to unzip ny-shapefile.zip**"
   ]
  },
  {
   "cell_type": "code",
   "execution_count": null,
   "metadata": {},
   "outputs": [],
   "source": [
    "ny = gpd.read_file('./shapefile/geo_export_3f574144-ba72-4d7f-9ba7-d4b37dfc230b.shp')\n",
    "crs = {'init': 'epsg:4326'}"
   ]
  },
  {
   "cell_type": "code",
   "execution_count": null,
   "metadata": {},
   "outputs": [],
   "source": [
    "df['Hour'] = df['Date/Time'].dt.hour"
   ]
  },
  {
   "cell_type": "code",
   "execution_count": null,
   "metadata": {},
   "outputs": [],
   "source": [
    "df['Weekday'] = df['Date/Time'].dt.weekday"
   ]
  },
  {
   "cell_type": "code",
   "execution_count": null,
   "metadata": {},
   "outputs": [],
   "source": [
    "def split_time(x):\n",
    "    if x >= 22 or x <= 5:\n",
    "        return \"night\"\n",
    "    elif x >= 6 and x <= 12:\n",
    "        return \"am\"\n",
    "    elif x >= 13 and x <= 17:\n",
    "        return \"pm\"\n",
    "    else:\n",
    "        return \"evening\""
   ]
  },
  {
   "cell_type": "code",
   "execution_count": null,
   "metadata": {},
   "outputs": [],
   "source": [
    "def apply_weekday(x):\n",
    "    if x == 0:\n",
    "        return \"monday\"\n",
    "    elif x == 1:\n",
    "        return \"tuesday\"\n",
    "    elif x == 2:\n",
    "        return \"wednesday\"\n",
    "    elif x == 3:\n",
    "        return \"thursday\"\n",
    "    elif x == 4:\n",
    "        return \"friday\"\n",
    "    elif x == 5:\n",
    "        return \"saturday\"\n",
    "    else:\n",
    "        return \"sunday\""
   ]
  },
  {
   "cell_type": "code",
   "execution_count": null,
   "metadata": {},
   "outputs": [],
   "source": [
    "df['Period'] = df['Hour'].progress_apply(lambda x: split_time(x))"
   ]
  },
  {
   "cell_type": "code",
   "execution_count": null,
   "metadata": {},
   "outputs": [],
   "source": [
    "df['Day'] = df['Weekday'].progress_apply(lambda x: apply_weekday(x))"
   ]
  },
  {
   "cell_type": "code",
   "execution_count": null,
   "metadata": {},
   "outputs": [],
   "source": [
    "df['Day - Period'] = df[['Day', 'Period']].progress_apply(lambda x: '_'.join(x), axis=1)"
   ]
  },
  {
   "cell_type": "code",
   "execution_count": null,
   "metadata": {},
   "outputs": [],
   "source": [
    "dict_of_df = dict(iter(df.groupby('Day - Period')))"
   ]
  },
  {
   "cell_type": "code",
   "execution_count": null,
   "metadata": {},
   "outputs": [],
   "source": [
    "list_df = [\n",
    " 'monday_am',\n",
    " 'monday_pm',\n",
    " 'monday_evening',\n",
    " 'monday_night',\n",
    " 'tuesday_am',\n",
    " 'tuesday_pm',\n",
    " 'tuesday_evening',\n",
    " 'tuesday_night',\n",
    " 'wednesday_am',\n",
    " 'wednesday_pm',\n",
    " 'wednesday_evening',\n",
    " 'wednesday_night',\n",
    " 'thursday_am',\n",
    " 'thursday_pm',\n",
    " 'thursday_evening',\n",
    " 'thursday_night',\n",
    " 'friday_am',\n",
    " 'friday_pm',\n",
    " 'friday_evening',\n",
    " 'friday_night',\n",
    " 'saturday_am',\n",
    " 'saturday_pm',\n",
    " 'saturday_evening',\n",
    " 'saturday_night',\n",
    " 'sunday_am',\n",
    " 'sunday_pm',\n",
    " 'sunday_evening',\n",
    " 'sunday_night']"
   ]
  },
  {
   "cell_type": "code",
   "execution_count": null,
   "metadata": {},
   "outputs": [],
   "source": [
    "geometry = [Point(xy) for xy in zip( dict_of_df['monday_night'].Lon, dict_of_df['monday_night'].Lat )]\n",
    "geometry[:3]"
   ]
  },
  {
   "cell_type": "code",
   "execution_count": null,
   "metadata": {},
   "outputs": [],
   "source": [
    "fig, ax = plt.subplots(figsize=(15,15))\n",
    "ny.plot(ax=ax)"
   ]
  }
 ]
}